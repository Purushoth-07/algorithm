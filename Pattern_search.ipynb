{
  "nbformat": 4,
  "nbformat_minor": 0,
  "metadata": {
    "colab": {
      "provenance": [],
      "authorship_tag": "ABX9TyMTRf1+OVwujZpZXwpDJsfg",
      "include_colab_link": true
    },
    "kernelspec": {
      "name": "python3",
      "display_name": "Python 3"
    },
    "language_info": {
      "name": "python"
    }
  },
  "cells": [
    {
      "cell_type": "markdown",
      "metadata": {
        "id": "view-in-github",
        "colab_type": "text"
      },
      "source": [
        "<a href=\"https://colab.research.google.com/github/Purushoth-07/algorithm/blob/main/Pattern_search.ipynb\" target=\"_parent\"><img src=\"https://colab.research.google.com/assets/colab-badge.svg\" alt=\"Open In Colab\"/></a>"
      ]
    },
    {
      "cell_type": "code",
      "execution_count": 5,
      "metadata": {
        "colab": {
          "base_uri": "https://localhost:8080/"
        },
        "id": "7fQQszBTBOUo",
        "outputId": "38955555-8e0a-416e-8da7-bf25bb14ecf5"
      },
      "outputs": [
        {
          "output_type": "stream",
          "name": "stdout",
          "text": [
            "Enter the text: malayalam\n",
            "Enter the pattern: ala\n",
            "Pattern found at index 1\n",
            "Pattern found at index 5\n"
          ]
        }
      ],
      "source": [
        "def search(pat, txt):\n",
        "    M = len(pat)\n",
        "    N = len(txt)\n",
        "    for i in range(N - M + 1):\n",
        "        j = 0\n",
        "        while j < M and txt[i + j] == pat[j]:\n",
        "            j = j+1\n",
        "        if j == M:\n",
        "            print(f\"Pattern found at index {i}\")\n",
        "txt = input(\"Enter the text: \")\n",
        "pat = input(\"Enter the pattern: \")\n",
        "search(pat, txt)\n"
      ]
    }
  ]
}